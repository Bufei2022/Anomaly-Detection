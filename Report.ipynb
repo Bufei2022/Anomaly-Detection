{
  "cells": [
    {
      "cell_type": "markdown",
      "metadata": {
        "id": "view-in-github",
        "colab_type": "text"
      },
      "source": [
        "<a href=\"https://colab.research.google.com/github/Bufei2022/Anomaly-Detection/blob/main/Appendix.ipynb\" target=\"_parent\"><img src=\"https://colab.research.google.com/assets/colab-badge.svg\" alt=\"Open In Colab\"/></a>"
      ]
    },
    {
      "cell_type": "markdown",
      "metadata": {
        "id": "4GZPzdAUc-3d"
      },
      "source": [
        "# Anomaly detection in streaming time series data"
      ]
    },
    {
      "cell_type": "markdown",
      "metadata": {
        "id": "OWqijXdCeVf3"
      },
      "source": [
        "## Outline \n",
        "\n",
        "1. Data Description, Evaluation Benchmark and Methods\n",
        "2. Data Preprocessing\n",
        "3. Statistical Hypothesis Based Anomaly Detection\n",
        "4. GRU Based Anomaly Detection"
      ]
    },
    {
      "cell_type": "markdown",
      "metadata": {
        "id": "5AA166Wiptz7"
      },
      "source": [
        "## 1. Data Description, Evaluation Benchmark and Methods"
      ]
    },
    {
      "cell_type": "markdown",
      "source": [
        "I used benchmark data sets containing anomalies the [Yahoo data set](https://yahooresearch.tumblr.com/post/114590420346/a-benchmark-dataset-for-time-series-anomaly?fbclid=IwAR31SaUo48kFzUCeYPFDfVGRKyqYPW3vmY0XDuci7uIYM-XrrW86QXGerrY). This data set is provided as part of the Yahoo! Webscope program, to be used for approved non-commericial research proposed by recipients who have assigned a Data Sharing Agreement with Yahoo!. It contains `A1` to `A4` four benchmarks, with `A1` containing real traffic data from Yahoo servers, `A2/A3` containing synthetic data, and `A4` containing change points, which is outside the scope of this project. All benchmarks contain anomalies marked by humans. I will provide precision, recall, and F1 score for algorithms using the Yahoo data set, ROC curve, and AUC if applicable."
      ],
      "metadata": {
        "id": "oZ9xPfR9NQ8a"
      }
    },
    {
      "cell_type": "code",
      "execution_count": null,
      "metadata": {
        "id": "9kXTwduhDWl-"
      },
      "outputs": [],
      "source": [
        "import pandas as pd\n",
        "import numpy as np"
      ]
    },
    {
      "cell_type": "code",
      "execution_count": null,
      "metadata": {
        "colab": {
          "base_uri": "https://localhost:8080/"
        },
        "id": "5qdM-KrCGiEx",
        "outputId": "5bc900f3-f31f-403f-8149-1aa13ee71c98"
      },
      "outputs": [
        {
          "output_type": "stream",
          "name": "stdout",
          "text": [
            "Mounted at /content/gdrive\n"
          ]
        }
      ],
      "source": [
        "from google.colab import drive\n",
        "drive.mount('/content/gdrive')"
      ]
    },
    {
      "cell_type": "markdown",
      "metadata": {
        "id": "mLwE7Cm9SfG8"
      },
      "source": [
        "### 1.1 Yahoo Webscope data set"
      ]
    },
    {
      "cell_type": "markdown",
      "metadata": {
        "id": "0bR1zEp4Leda"
      },
      "source": [
        "I choose one data set from `A1 benchmark` and label it as `dat_real`. Details of the data set is given below."
      ]
    },
    {
      "cell_type": "code",
      "execution_count": null,
      "metadata": {
        "colab": {
          "base_uri": "https://localhost:8080/"
        },
        "id": "9I3QQf1xL2wu",
        "outputId": "0b49285b-71a6-4419-888c-1f67bd536976"
      },
      "outputs": [
        {
          "name": "stdout",
          "output_type": "stream",
          "text": [
            "<class 'pandas.core.frame.DataFrame'>\n",
            "RangeIndex: 1439 entries, 0 to 1438\n",
            "Data columns (total 3 columns):\n",
            " #   Column      Non-Null Count  Dtype  \n",
            "---  ------      --------------  -----  \n",
            " 0   timestamp   1439 non-null   int64  \n",
            " 1   value       1439 non-null   float64\n",
            " 2   is_anomaly  1439 non-null   int64  \n",
            "dtypes: float64(1), int64(2)\n",
            "memory usage: 33.9 KB\n"
          ]
        }
      ],
      "source": [
        "dat_real.info()"
      ]
    },
    {
      "cell_type": "code",
      "execution_count": null,
      "metadata": {
        "colab": {
          "base_uri": "https://localhost:8080/",
          "height": 300
        },
        "id": "Gp64tKUqcdIR",
        "outputId": "b48be3f5-24c5-4017-dad7-549a0fcd3392"
      },
      "outputs": [
        {
          "output_type": "execute_result",
          "data": {
            "text/plain": [
              "      timestamp      value  is_anomaly\n",
              "1431       1432  21.905100           1\n",
              "1432       1433  18.535302           1\n",
              "1433       1434  21.679476           1\n",
              "1434       1435  23.526565           1\n",
              "1435       1436  20.647311           1\n",
              "1436       1437  22.200326           1\n",
              "1437       1438  21.704851           1\n",
              "1438       1439  22.575661           1"
            ],
            "text/html": [
              "\n",
              "  <div id=\"df-4efacf8c-5fff-4f3f-9fe0-7fff41021d8a\">\n",
              "    <div class=\"colab-df-container\">\n",
              "      <div>\n",
              "<style scoped>\n",
              "    .dataframe tbody tr th:only-of-type {\n",
              "        vertical-align: middle;\n",
              "    }\n",
              "\n",
              "    .dataframe tbody tr th {\n",
              "        vertical-align: top;\n",
              "    }\n",
              "\n",
              "    .dataframe thead th {\n",
              "        text-align: right;\n",
              "    }\n",
              "</style>\n",
              "<table border=\"1\" class=\"dataframe\">\n",
              "  <thead>\n",
              "    <tr style=\"text-align: right;\">\n",
              "      <th></th>\n",
              "      <th>timestamp</th>\n",
              "      <th>value</th>\n",
              "      <th>is_anomaly</th>\n",
              "    </tr>\n",
              "  </thead>\n",
              "  <tbody>\n",
              "    <tr>\n",
              "      <th>1431</th>\n",
              "      <td>1432</td>\n",
              "      <td>21.905100</td>\n",
              "      <td>1</td>\n",
              "    </tr>\n",
              "    <tr>\n",
              "      <th>1432</th>\n",
              "      <td>1433</td>\n",
              "      <td>18.535302</td>\n",
              "      <td>1</td>\n",
              "    </tr>\n",
              "    <tr>\n",
              "      <th>1433</th>\n",
              "      <td>1434</td>\n",
              "      <td>21.679476</td>\n",
              "      <td>1</td>\n",
              "    </tr>\n",
              "    <tr>\n",
              "      <th>1434</th>\n",
              "      <td>1435</td>\n",
              "      <td>23.526565</td>\n",
              "      <td>1</td>\n",
              "    </tr>\n",
              "    <tr>\n",
              "      <th>1435</th>\n",
              "      <td>1436</td>\n",
              "      <td>20.647311</td>\n",
              "      <td>1</td>\n",
              "    </tr>\n",
              "    <tr>\n",
              "      <th>1436</th>\n",
              "      <td>1437</td>\n",
              "      <td>22.200326</td>\n",
              "      <td>1</td>\n",
              "    </tr>\n",
              "    <tr>\n",
              "      <th>1437</th>\n",
              "      <td>1438</td>\n",
              "      <td>21.704851</td>\n",
              "      <td>1</td>\n",
              "    </tr>\n",
              "    <tr>\n",
              "      <th>1438</th>\n",
              "      <td>1439</td>\n",
              "      <td>22.575661</td>\n",
              "      <td>1</td>\n",
              "    </tr>\n",
              "  </tbody>\n",
              "</table>\n",
              "</div>\n",
              "      <button class=\"colab-df-convert\" onclick=\"convertToInteractive('df-4efacf8c-5fff-4f3f-9fe0-7fff41021d8a')\"\n",
              "              title=\"Convert this dataframe to an interactive table.\"\n",
              "              style=\"display:none;\">\n",
              "        \n",
              "  <svg xmlns=\"http://www.w3.org/2000/svg\" height=\"24px\"viewBox=\"0 0 24 24\"\n",
              "       width=\"24px\">\n",
              "    <path d=\"M0 0h24v24H0V0z\" fill=\"none\"/>\n",
              "    <path d=\"M18.56 5.44l.94 2.06.94-2.06 2.06-.94-2.06-.94-.94-2.06-.94 2.06-2.06.94zm-11 1L8.5 8.5l.94-2.06 2.06-.94-2.06-.94L8.5 2.5l-.94 2.06-2.06.94zm10 10l.94 2.06.94-2.06 2.06-.94-2.06-.94-.94-2.06-.94 2.06-2.06.94z\"/><path d=\"M17.41 7.96l-1.37-1.37c-.4-.4-.92-.59-1.43-.59-.52 0-1.04.2-1.43.59L10.3 9.45l-7.72 7.72c-.78.78-.78 2.05 0 2.83L4 21.41c.39.39.9.59 1.41.59.51 0 1.02-.2 1.41-.59l7.78-7.78 2.81-2.81c.8-.78.8-2.07 0-2.86zM5.41 20L4 18.59l7.72-7.72 1.47 1.35L5.41 20z\"/>\n",
              "  </svg>\n",
              "      </button>\n",
              "      \n",
              "  <style>\n",
              "    .colab-df-container {\n",
              "      display:flex;\n",
              "      flex-wrap:wrap;\n",
              "      gap: 12px;\n",
              "    }\n",
              "\n",
              "    .colab-df-convert {\n",
              "      background-color: #E8F0FE;\n",
              "      border: none;\n",
              "      border-radius: 50%;\n",
              "      cursor: pointer;\n",
              "      display: none;\n",
              "      fill: #1967D2;\n",
              "      height: 32px;\n",
              "      padding: 0 0 0 0;\n",
              "      width: 32px;\n",
              "    }\n",
              "\n",
              "    .colab-df-convert:hover {\n",
              "      background-color: #E2EBFA;\n",
              "      box-shadow: 0px 1px 2px rgba(60, 64, 67, 0.3), 0px 1px 3px 1px rgba(60, 64, 67, 0.15);\n",
              "      fill: #174EA6;\n",
              "    }\n",
              "\n",
              "    [theme=dark] .colab-df-convert {\n",
              "      background-color: #3B4455;\n",
              "      fill: #D2E3FC;\n",
              "    }\n",
              "\n",
              "    [theme=dark] .colab-df-convert:hover {\n",
              "      background-color: #434B5C;\n",
              "      box-shadow: 0px 1px 3px 1px rgba(0, 0, 0, 0.15);\n",
              "      filter: drop-shadow(0px 1px 2px rgba(0, 0, 0, 0.3));\n",
              "      fill: #FFFFFF;\n",
              "    }\n",
              "  </style>\n",
              "\n",
              "      <script>\n",
              "        const buttonEl =\n",
              "          document.querySelector('#df-4efacf8c-5fff-4f3f-9fe0-7fff41021d8a button.colab-df-convert');\n",
              "        buttonEl.style.display =\n",
              "          google.colab.kernel.accessAllowed ? 'block' : 'none';\n",
              "\n",
              "        async function convertToInteractive(key) {\n",
              "          const element = document.querySelector('#df-4efacf8c-5fff-4f3f-9fe0-7fff41021d8a');\n",
              "          const dataTable =\n",
              "            await google.colab.kernel.invokeFunction('convertToInteractive',\n",
              "                                                     [key], {});\n",
              "          if (!dataTable) return;\n",
              "\n",
              "          const docLinkHtml = 'Like what you see? Visit the ' +\n",
              "            '<a target=\"_blank\" href=https://colab.research.google.com/notebooks/data_table.ipynb>data table notebook</a>'\n",
              "            + ' to learn more about interactive tables.';\n",
              "          element.innerHTML = '';\n",
              "          dataTable['output_type'] = 'display_data';\n",
              "          await google.colab.output.renderOutput(dataTable, element);\n",
              "          const docLink = document.createElement('div');\n",
              "          docLink.innerHTML = docLinkHtml;\n",
              "          element.appendChild(docLink);\n",
              "        }\n",
              "      </script>\n",
              "    </div>\n",
              "  </div>\n",
              "  "
            ]
          },
          "metadata": {},
          "execution_count": 39
        }
      ],
      "source": [
        "dat_real[dat_real.is_anomaly==1]"
      ]
    },
    {
      "cell_type": "markdown",
      "metadata": {
        "id": "y9IxgLR9rvXg"
      },
      "source": [
        "Visualization of the two Yahoo data sets. The red points are anomaly points labeled by human."
      ]
    },
    {
      "cell_type": "code",
      "execution_count": null,
      "metadata": {
        "id": "sB-Zx7IUr1at"
      },
      "outputs": [],
      "source": [
        "from plotnine import *"
      ]
    },
    {
      "cell_type": "code",
      "execution_count": null,
      "metadata": {
        "colab": {
          "base_uri": "https://localhost:8080/",
          "height": 499
        },
        "id": "kwlD2tWFvSNQ",
        "outputId": "160642b7-e78a-4351-cfd0-1288e2535ec1"
      },
      "outputs": [
        {
          "data": {
            "image/png": "[encoded data removed]",
            "text/plain": [
              "<Figure size 640x480 with 1 Axes>"
            ]
          },
          "metadata": {},
          "output_type": "display_data"
        },
        {
          "data": {
            "text/plain": [
              "<ggplot: (8787946047476)>"
            ]
          },
          "execution_count": 25,
          "metadata": {},
          "output_type": "execute_result"
        }
      ],
      "source": [
        "ggplot() +\\\n",
        "geom_line(aes(x='timestamp', y='value'), data=dat_real) +\\\n",
        "geom_point(aes(x='timestamp', y='value'), data=dat_real[dat_real.is_anomaly==1], color='red') +\\\n",
        "xlab('Time Lag in Hours') +\\\n",
        "ggtitle('Trace plot of Real Data') +\\\n",
        "theme(axis_text=element_text(size=12), axis_title=element_text(size=12)) "
      ]
    },
    {
      "cell_type": "markdown",
      "metadata": {
        "id": "hOIRf1A-TW1D"
      },
      "source": [
        "## 2. Data Preprocessing"
      ]
    },
    {
      "cell_type": "markdown",
      "metadata": {
        "id": "aOeyJcn9T8kq"
      },
      "source": [
        "### Using Lagged Observations as Features\n",
        "Time series data is time-dependent, and we wish to detect anomalies utilizing prediction based on previous observations. We could treat previous $m$ step observations $x_1,\\dots,x_m$ as covariates while we try to predict $x_{m+1}$. The following function `generate_time_lags` takes a time series and returns a DataFrame with `m_lag` observations. Notice that the first `m_lag` observations are removed from the returned DataFrame as they do not have `m_lag` observations."
      ]
    },
    {
      "cell_type": "code",
      "execution_count": null,
      "metadata": {
        "id": "Fqz1guugT82L"
      },
      "outputs": [],
      "source": [
        "def generate_time_lags(y_, m_lags):\n",
        "  res = y_.copy()\n",
        "  for m in range(1, m_lags+1):\n",
        "    res[f\"lag{m}\"] = y_.shift(m)\n",
        "  res = res.iloc[m_lags:]\n",
        "  return res"
      ]
    },
    {
      "cell_type": "markdown",
      "metadata": {
        "id": "gI67LwknYjih"
      },
      "source": [
        "### Dealing with Trend and Seasonal Effects\n",
        "\n",
        "We need to remove trend and seasonal effects in statistics before fitting the time series models. This is usually done by using linear regression or smoothing/differencing. Also, if fit time series data to RNN, we need to count for the trend and seasonal effects in the model. \n",
        "\n",
        "I use two methods to include features that might affect the trend and seasonal effects of the time series data. One way is to treat them as categorical variables through one-hot encoding (regression through dummy variables). The `onehot_encode` function below takes a DataFrame and the column name(s) we want to encode and return an encoded DataFrame with the original column deleted.\n",
        "\n",
        "Another way is to use trigonometrical polynomials. Let $d$ be the period and take $s = ⌊d/2⌋$. Model the cyclical features as sine and cosine transform of the given time feature $t$. i.e., $\\sin(2\\pi jt/d)$ and $\\cos(2\\pi jt/d)$, $j=1,\\dots,s$. It also makes sense in deep learning models. As in one-hot encoding, the model does not know that hour 1 is closer to hour 2 than hour 6. Although if we give a complex enough deep learning model, it could also learn the cyclical features through one-hot encoding. The function `generate_cyclical_features` takes a DataFrame, variable name, period, and start timestamp as inputs. It returns DataFrame by replacing the original variable with a trigonometrical polynomial if `tri` is set to `True`. It can also perform feature converting by replacing a periodical variable with another periodical variable. For example, by setting `period=24`, it could convert hourly features to daily features. (hour 0 to hour 23 will all be considered as day 1)."
      ]
    },
    {
      "cell_type": "code",
      "execution_count": null,
      "metadata": {
        "id": "U3GZ25OjrM6V"
      },
      "outputs": [],
      "source": [
        "def onehot_encode(x_, col_names):\n",
        "  for i in col_names:\n",
        "    dummies = pd.get_dummies(x_[i], prefix=i)\n",
        "    pd.concat([x_, dummies], axis=1).drop(columns=[i])\n",
        "  return x_\n",
        "\n",
        "def generate_cyclical_features(x_, col_name, period, start_num=0, tri=True, tar_name=None):\n",
        "  if tri:\n",
        "    s = int(np.floor(period/2))\n",
        "    kwargs = dict()\n",
        "    for j in range(1,s+1):\n",
        "      kwargs[f'cos_{str(j)+col_name}'] = np.cos(2*np.pi*j*(x_[col_name]-start_num)/period)\n",
        "      kwargs[f'sin_{str(j)+col_name}'] = np.sin(2*np.pi*j*(x_[col_name]-start_num)/period)\n",
        "  else:\n",
        "    kwargs = {\n",
        "        f'{tar_name}' : lambda x: (x_[col_name]-start_num)//period\n",
        "    }\n",
        "  return x_.assign(**kwargs).drop(columns=[col_name])"
      ]
    },
    {
      "cell_type": "markdown",
      "metadata": {
        "id": "U2zBgSjUtVli"
      },
      "source": [
        "### Splitting Data into Train, Validation, and Test Sets\n",
        "\n",
        "We can train the model once using partial data and use the same model in anomaly detection or re-train/update the model at a given frequency as new data comes.\n",
        "\n",
        "Since time series data are time-dependent, we must keep the time sequence intact when perfroming data splitting. It means we will not shuffle the data while splitting. The following function `train_val_test_split` performs unshuffled data splitting. If we already have a separate data set for testing, this function will only return training data and validation data with `test=False`."
      ]
    },
    {
      "cell_type": "code",
      "execution_count": null,
      "metadata": {
        "id": "3BRAcUk7tV0X"
      },
      "outputs": [],
      "source": [
        "from sklearn.model_selection import train_test_split"
      ]
    },
    {
      "cell_type": "code",
      "execution_count": null,
      "metadata": {
        "id": "nWLwB2swteis"
      },
      "outputs": [],
      "source": [
        "def train_val_test_split(x_, y_, test_ratio, test=False):\n",
        "  if test:\n",
        "    x_train, x_test, y_train, y_test = train_test_split(x_, y_, test_size=test_ratio, shuffle=False)\n",
        "    val_ratio = test_ratio/(1-test_ratio)\n",
        "    x_train, x_val, y_train, y_val = train_test_split(x_train, y_train, test_size=val_ratio, shuffle=False)\n",
        "    return x_train, x_val, x_test, y_train, y_val, y_test\n",
        "  else:\n",
        "    x_train, x_val, y_train, y_val = train_test_split(x_, y_, test_size=test_ratio, shuffle=False)\n",
        "    return x_train, x_val, y_train, y_val"
      ]
    },
    {
      "cell_type": "markdown",
      "metadata": {
        "id": "ZsE1q-6J-h3A"
      },
      "source": [
        "Scaling the values in the data set before passing the data into the models. For convenience, I use a function to get the specific scaler I want to use."
      ]
    },
    {
      "cell_type": "code",
      "execution_count": null,
      "metadata": {
        "id": "r0RkHZQg-iFj"
      },
      "outputs": [],
      "source": [
        "from sklearn.preprocessing import MinMaxScaler, StandardScaler, MaxAbsScaler, RobustScaler"
      ]
    },
    {
      "cell_type": "code",
      "execution_count": null,
      "metadata": {
        "id": "mcI6rYdDYDM1"
      },
      "outputs": [],
      "source": [
        "def get_scaler(scaler):\n",
        "  scalers = {\n",
        "        \"minmax\": MinMaxScaler,\n",
        "        \"standard\": StandardScaler,\n",
        "        \"maxabs\": MaxAbsScaler,\n",
        "        \"robust\": RobustScaler,\n",
        "  }\n",
        "  return scalers.get(scaler.lower())()"
      ]
    },
    {
      "cell_type": "markdown",
      "source": [
        "### Find the Periodicity of Time Series\n",
        "Some methods are sensitive to the periodicity specification. We can either use visualization to get an approximate estimation of periodicity or use autocorrelation function(acf) to find an estimation of periodicity. The following function takes a time series and calculates it's periodicity using acf."
      ],
      "metadata": {
        "id": "qjv8YDn-e7gt"
      }
    },
    {
      "cell_type": "code",
      "source": [
        "def find_period(ts):\n",
        "    acf = np.correlate(ts, ts, 'full')[-len(ts):]\n",
        "    inflection = np.diff(np.sign(np.diff(acf)))\n",
        "    peaks = (inflection < 0).nonzero()[0] + 1\n",
        "    return \"The periodicity is \" + str(peaks[acf[peaks].argmax()])"
      ],
      "metadata": {
        "id": "9q_kbySqgN0p"
      },
      "execution_count": null,
      "outputs": []
    },
    {
      "cell_type": "markdown",
      "metadata": {
        "id": "g-nHKCDvTk-e"
      },
      "source": [
        "## 3. Statistical Hypothesis Based Anomaly Detection\n"
      ]
    },
    {
      "cell_type": "markdown",
      "metadata": {
        "id": "OUMpcTxJp5vK"
      },
      "source": [
        "### 3.1 Seasonal Hybrid Extreme Studentized Deviate(S-H-ESD) \n",
        "\n",
        "The S-H-ESD algorithm is an algorithm builds upon on the Generalized ESD test for detecting anomalies implemented at Twitter https://arxiv.org/pdf/1704.07706.pdf. This algorithm performs time series decomposition(filter trend and seasonal components) and uses robust statistical methods, i.e., median and median absolute deviation(MAD). We could use it for both global and local anomalies. For long time series, the algorithm employs piecewise approximation for anomaly detection. \n",
        "\n",
        "Descriptions of S-H-ESD algorithm are in the next subsection for those who are interested."
      ]
    },
    {
      "cell_type": "markdown",
      "metadata": {
        "id": "uwzgKIIlqShn"
      },
      "source": [
        "#### 3.1.1 S-H-ESD Algorithm"
      ]
    },
    {
      "cell_type": "markdown",
      "metadata": {
        "id": "EBBqtouJlroC"
      },
      "source": [
        "The ESD test requires an upper bound on the number of anomalies ($k$) to be specified. It computes the test statistic for the $k$ most extreme values, denoted as $x_{(1)}>\\dots>x_{(k)}$, in the data set. Let $n$ be the total number of observations in the original time series. In the $j$th iteration, the test statistic is computed as\n",
        "\\begin{equation}\n",
        "C_j=\\frac{|x_{(j)}-\\bar{x}|}{s},\n",
        "\\end{equation}\n",
        "where $\\bar{x}$ and $s$ denote the mean and variance of the current time series $X$. The test statistic is then compared with a critical value $\\lambda_j$, where $\\lambda_j$ is defined as\n",
        "\\begin{equation}\n",
        "\\lambda_j=\\frac{(n-j)t_{p,n-j-1}}{\\sqrt{(n-k-1+t^2_{p,n-j-1})(n-j+1)}},\n",
        "\\end{equation}\n",
        "\n",
        "to determine whether a value is anomalous. Then we remove $x_{(j)}$ from the data set, recalculate the sample mean $\\bar{x}$ and variance $s$, and update the critical value to $\\lambda_{j+1}$. ESD repeats this process $k$ times, with the number of anomalies equal to the largest $m$ such that $C_m>\\lambda_m$.\n",
        "\n",
        "S-H-ESD algorithm further replace the mean $\\bar{x}$ and variance $s$ by sample median absolute deviation \n",
        "\\begin{equation}\n",
        "MAD=median(|X_i-median_j(X_j)|)\n",
        "\\end{equation}\n",
        " and scaled sample median absolute deviation\n",
        "\\begin{equation}\n",
        "\\hat{σ}=b\\cdot MAD\n",
        "\\end{equation}, where $b=1.4826$ for normally distributed data and $b=\\frac{1}{Q(0.75)}$ for other distributions, with $Q(0.75)$ being the $0.75$th quantile."
      ]
    },
    {
      "cell_type": "markdown",
      "metadata": {
        "id": "pWYo3aQXqV7s"
      },
      "source": [
        "#### 3.1.2 S-H-ESD implementation"
      ]
    },
    {
      "cell_type": "markdown",
      "metadata": {
        "id": "-hA1aBXLrWug"
      },
      "source": [
        "The implementation of S-H-ESD is avaialble at an open-sourced R package [AnomalyDetection](https://github.com/twitter/AnomalyDetection). However, this R package is not submitted to CRAN and can only be downloaded from github, which might cause a problem under interfacing of colab and R. Instead, I use a Python package named `sesd`, which performs the same algorithm to do anomaly detection."
      ]
    },
    {
      "cell_type": "code",
      "source": [
        "!pip install sesd"
      ],
      "metadata": {
        "colab": {
          "base_uri": "https://localhost:8080/"
        },
        "id": "7JxHtZRoQ8M3",
        "outputId": "140f6056-1ca8-40b4-9428-fe501aff1237"
      },
      "execution_count": null,
      "outputs": [
        {
          "output_type": "stream",
          "name": "stdout",
          "text": [
            "Looking in indexes: https://pypi.org/simple, https://us-python.pkg.dev/colab-wheels/public/simple/\n",
            "Collecting sesd\n",
            "  Downloading sesd-0.2.tar.gz (4.3 kB)\n",
            "Requirement already satisfied: numpy in /usr/local/lib/python3.8/dist-packages (from sesd) (1.21.6)\n",
            "Requirement already satisfied: scipy in /usr/local/lib/python3.8/dist-packages (from sesd) (1.7.3)\n",
            "Requirement already satisfied: statsmodels in /usr/local/lib/python3.8/dist-packages (from sesd) (0.12.2)\n",
            "Requirement already satisfied: pandas>=0.21 in /usr/local/lib/python3.8/dist-packages (from statsmodels->sesd) (1.3.5)\n",
            "Requirement already satisfied: patsy>=0.5 in /usr/local/lib/python3.8/dist-packages (from statsmodels->sesd) (0.5.3)\n",
            "Requirement already satisfied: python-dateutil>=2.7.3 in /usr/local/lib/python3.8/dist-packages (from pandas>=0.21->statsmodels->sesd) (2.8.2)\n",
            "Requirement already satisfied: pytz>=2017.3 in /usr/local/lib/python3.8/dist-packages (from pandas>=0.21->statsmodels->sesd) (2022.6)\n",
            "Requirement already satisfied: six in /usr/local/lib/python3.8/dist-packages (from patsy>=0.5->statsmodels->sesd) (1.15.0)\n",
            "Building wheels for collected packages: sesd\n",
            "  Building wheel for sesd (setup.py) ... \u001b[?25l\u001b[?25hdone\n",
            "  Created wheel for sesd: filename=sesd-0.2-py3-none-any.whl size=4712 sha256=77a652a92473ef5b8a7045bcf251bf8f1c6db201a1996bd98db0bb2208eccc07\n",
            "  Stored in directory: /root/.cache/pip/wheels/ff/e6/21/c6015da847eb21fdb4a04490febcf8fe91924de5eb9f5c76c2\n",
            "Successfully built sesd\n",
            "Installing collected packages: sesd\n",
            "Successfully installed sesd-0.2\n"
          ]
        }
      ]
    },
    {
      "cell_type": "code",
      "source": [
        "import sesd\n",
        "from sklearn.metrics import precision_recall_fscore_support, confusion_matrix, auc"
      ],
      "metadata": {
        "id": "DwvILM0jRGNu"
      },
      "execution_count": null,
      "outputs": []
    },
    {
      "cell_type": "code",
      "source": [
        "def eval_metrics(y_, ypred_, alpha, cat=True):\n",
        "  pred = np.zeros(len(y_))\n",
        "  pred[ypred_] = 1\n",
        "  if cat:\n",
        "    precision, recall, f1, _ = precision_recall_fscore_support(y_, pred, average='binary', zero_division=0)\n",
        "    print(\"The precioson, recall and f1 score is given by {}, {} and {} under {} sign. level\".format(round(precision,3), round(recall,3), round(f1,3), alpha))\n",
        "  else:\n",
        "    tn, fp, fn, tp = confusion_matrix(y_, pred).ravel()\n",
        "    return fp/(fp+tn), tp/(tp+fn)\n",
        "  \n",
        "  return"
      ],
      "metadata": {
        "id": "nVp7jY3Gv-YF"
      },
      "execution_count": null,
      "outputs": []
    },
    {
      "cell_type": "markdown",
      "source": [
        "Find the periodicity of `dat_real` using function `find_period`. The periods for `dat_real` is estimated to be 5."
      ],
      "metadata": {
        "id": "klNfm52SrTNl"
      }
    },
    {
      "cell_type": "code",
      "source": [
        "find_period(dat_real.value)"
      ],
      "metadata": {
        "colab": {
          "base_uri": "https://localhost:8080/",
          "height": 35
        },
        "id": "HqzQK9aerc2Z",
        "outputId": "a2c0b212-9bfe-4e4b-c293-5dce5d90ac31"
      },
      "execution_count": null,
      "outputs": [
        {
          "output_type": "execute_result",
          "data": {
            "text/plain": [
              "'The periodicity is 5'"
            ],
            "application/vnd.google.colaboratory.intrinsic+json": {
              "type": "string"
            }
          },
          "metadata": {},
          "execution_count": 75
        }
      ]
    },
    {
      "cell_type": "markdown",
      "source": [
        "Under significance level $\\alpha=0.05$ the precision, recall and f1 for `dat_real` is given by\n"
      ],
      "metadata": {
        "id": "cbfVKNQLurVc"
      }
    },
    {
      "cell_type": "code",
      "source": [
        "ESD_dat_real = sesd.seasonal_esd(dat_real.value, periodicity=5, hybrid=False, max_anomalies=20, alpha=0.05)\n",
        "print(\"The indices for anomaly data points are\", ESD_dat_real)\n",
        "eval_metrics(dat_real.is_anomaly, ESD_dat_real, 0.05)"
      ],
      "metadata": {
        "colab": {
          "base_uri": "https://localhost:8080/"
        },
        "id": "BnIM5l_4XAvc",
        "outputId": "4b514374-945d-4762-b380-2a9ae54a57ef"
      },
      "execution_count": null,
      "outputs": [
        {
          "output_type": "stream",
          "name": "stdout",
          "text": [
            "The indices for anomaly data points are [1438, 1437, 1431, 1436, 1433, 1434, 1435]\n",
            "The precioson, recall and f1 score is given by 1.0, 0.875 and 0.933 under 0.05 sign. level\n"
          ]
        }
      ]
    },
    {
      "cell_type": "markdown",
      "source": [
        "Under significance level $\\alpha=0.01$ the precision, recall and f1 for `dat_real` is given by"
      ],
      "metadata": {
        "id": "OeUR5ju7xmyt"
      }
    },
    {
      "cell_type": "code",
      "source": [
        "ESD_dat_real = sesd.seasonal_esd(dat_real.value, periodicity=5, hybrid=False, max_anomalies=20, alpha=0.01)\n",
        "print(\"The indices for anomaly data points are\", ESD_dat_real)\n",
        "eval_metrics(dat_real.is_anomaly, ESD_dat_real, 0.01)"
      ],
      "metadata": {
        "colab": {
          "base_uri": "https://localhost:8080/"
        },
        "id": "3xguaKpxjb87",
        "outputId": "98cade50-2129-4b94-e65b-e743220a71f5"
      },
      "execution_count": null,
      "outputs": [
        {
          "output_type": "stream",
          "name": "stdout",
          "text": [
            "The indices for anomaly data points are [1438, 1437]\n",
            "The precioson, recall and f1 score is given by 1.0, 0.25 and 0.4 under 0.01 sign. level\n"
          ]
        }
      ]
    },
    {
      "cell_type": "markdown",
      "source": [
        "Plot the ROC curve and compute the AUC score for `dat_real`"
      ],
      "metadata": {
        "id": "QNH_sujCyZl1"
      }
    },
    {
      "cell_type": "code",
      "source": [
        "#Use significance level from 0.01 to 0.99, calculate false positive rate and true positive rate\n",
        "alpha = np.linspace(0.01, 0.99, num=99)\n",
        "ESD_real_tpr, ESD_real_fpr = [0]*99, [0]*99\n",
        "for i in range(99):\n",
        "  ESD_real_res = sesd.seasonal_esd(dat_real.value, periodicity=5, hybrid=False, max_anomalies=20, alpha=alpha[i])\n",
        "  ESD_real_fpr[i], ESD_real_tpr[i] = eval_metrics(dat_real.is_anomaly, ESD_real_res, alpha[i], cat=False)"
      ],
      "metadata": {
        "id": "69qamOgK95M8"
      },
      "execution_count": null,
      "outputs": []
    },
    {
      "cell_type": "code",
      "source": [
        "#append an 1 to the end of false positive rate array and max true positive rate to the true positve rate array\n",
        "#for computation of auc later\n",
        "ESD_real_tpr = np.concatenate((ESD_real_tpr, np.array([max(ESD_real_tpr)])),axis=0)\n",
        "ESD_real_fpr = np.concatenate((ESD_real_fpr, np.array([1])),axis=0)"
      ],
      "metadata": {
        "id": "9qoZahkNLTck"
      },
      "execution_count": null,
      "outputs": []
    },
    {
      "cell_type": "code",
      "source": [
        "ggplot() +\\\n",
        "geom_line(aes(x=ESD_real_fpr, y=ESD_real_tpr)) +\\\n",
        "labs(x='False Positve Rate', y='True Positve Rate', title='ROC curve S-H-ESD real data') +\\\n",
        "theme(axis_text=element_text(size=12), axis_title=element_text(size=12))"
      ],
      "metadata": {
        "colab": {
          "base_uri": "https://localhost:8080/",
          "height": 499
        },
        "id": "3dgdct0ZADsD",
        "outputId": "28b7cf25-c8e8-4df4-dc86-9bcdab3c1395"
      },
      "execution_count": null,
      "outputs": [
        {
          "output_type": "display_data",
          "data": {
            "text/plain": [
              "<Figure size 640x480 with 1 Axes>"
            ],
            "image/png": "[encoded data removed]"
          },
          "metadata": {}
        },
        {
          "output_type": "execute_result",
          "data": {
            "text/plain": [
              "<ggplot: (8728122292845)>"
            ]
          },
          "metadata": {},
          "execution_count": 83
        }
      ]
    },
    {
      "cell_type": "markdown",
      "source": [
        "The AUC for `dat_real` under S-H-ESD algorithm is $0.875$"
      ],
      "metadata": {
        "id": "chuoNbFHRCVu"
      }
    },
    {
      "cell_type": "code",
      "source": [
        "auc(ESD_real_fpr, ESD_real_tpr)"
      ],
      "metadata": {
        "colab": {
          "base_uri": "https://localhost:8080/"
        },
        "id": "JRNLcHJfMcRt",
        "outputId": "4eeb7734-3806-4f05-dfbe-8638228dc9cd"
      },
      "execution_count": null,
      "outputs": [
        {
          "output_type": "execute_result",
          "data": {
            "text/plain": [
              "0.875"
            ]
          },
          "metadata": {},
          "execution_count": 84
        }
      ]
    },
    {
      "cell_type": "markdown",
      "metadata": {
        "id": "sZnAA4jUTlL9"
      },
      "source": [
        "## 4. GRU Based Anomaly Detection\n",
        "\n",
        "Import required packages. I use `DataLoader` and `TensorDataset` to help me with mini-batch training.\n",
        "\n",
        "The GRU-based detector consists of two layers: a prediction layer and a decision layer."
      ]
    },
    {
      "cell_type": "code",
      "source": [
        "import torch\n",
        "import torch.nn as nn\n",
        "import torch.optim as optim\n",
        "from torch.utils.data import DataLoader, TensorDataset"
      ],
      "metadata": {
        "id": "sqqxvclQuQx6"
      },
      "execution_count": null,
      "outputs": []
    },
    {
      "cell_type": "code",
      "source": [
        "device = torch.device('cuda' if torch.cuda.is_available() else 'cpu')"
      ],
      "metadata": {
        "id": "RbVh25lme3VW"
      },
      "execution_count": null,
      "outputs": []
    },
    {
      "cell_type": "markdown",
      "source": [
        "### 4.1 GRU Based Detector: Prediction layer\n",
        "\n",
        " "
      ],
      "metadata": {
        "id": "a1Ayg8nT9RyL"
      }
    },
    {
      "cell_type": "markdown",
      "source": [
        "The prediction layer contains a single/multi-layer GRU and an arbitrarily defined number of fully connected layer(s). People can tune the layers of GRU by changing the value of `num_layers`. If a multi-layer GRU is used, we can pass the results from the final(top) `last_num` number of layers to the fully connected layers. This makes the model more flexible when the time series data is complex, i.e., it contains multiple seasonal effects with different periodicities. Also, by including results from multiple layers of GRU, we hope the model could capture different levels of features in the data. The model passes results from the output layer of GRU to the fully connected layer by default; it can also pass results from hidden layer(s) of GRU to the fully connected layer if `hide=True`.\n",
        "\n",
        "A dynamic sequential function is included to make adding new fully connected layers more convenient. The parameter `fc_sizes` contains the number of expected features in input for each fully connected layer after the first fully connected layer. i.e., the number of input features for $i$th fully connected layer after the first fully connected layer will be `fc_sizes[i-1]`. And the number of input features for the first fully connected layer will be `rnn_size*last_num` if `hide=True` and `rnn_size` if `hide=False`."
      ],
      "metadata": {
        "id": "gkRS5LhP9XPO"
      }
    },
    {
      "cell_type": "markdown",
      "source": [
        "The class `gru` takes the following inputs:\n",
        "\n",
        "1. `input_size`: the number of expected features in the input x\n",
        "2. `rnn_size`: the number of features in the hidden state h\n",
        "3. `fc_sizes`: number of features of fully connected layer per output layers of GRU. For example, `hide=True`, `fc_sizes`=$[4,3,2]$ and `last_num`=$2$ means we will have four fully connected layers with input size `rnn_size`$\\times 2$, $4$, $3$ and $2$\n",
        "4. `num_layers`: number of recurrent layers\n",
        "5. `ouput_size`: Number of expected features in the output y\n",
        "6. `dropout`: if not zero, induce a dropout layer on the outputs of each GRU layer\n",
        "7. `last_num`: number of top hidden layers passed to fully connected layer, it must be smaller than or equal to `num_layers` and used when `hide=True`\n",
        "8. `hide`: if the hidden layer results are passed or output layer results are passed to fully connected layer"
      ],
      "metadata": {
        "id": "k57mdXgWDmbT"
      }
    },
    {
      "cell_type": "code",
      "source": [
        "class gru(nn.Module):\n",
        "  def __init__(self, input_size, rnn_size, fc_sizes, num_layers, output_size, dropout=0, last_num=1, hide=False):\n",
        "    super().__init__()\n",
        "\n",
        "    #Define GRU \n",
        "    self.rnn = nn.GRU(input_size=input_size,\n",
        "                      hidden_size=rnn_size,\n",
        "                      num_layers=num_layers,\n",
        "                      dropout=dropout,\n",
        "                      batch_first=True)\n",
        "    \n",
        "    #Define the how many top layers' output we want\n",
        "    self.last_num = last_num if hide else 1\n",
        "\n",
        "    #Define the input and output size for fully connected layers \n",
        "    self.fc_sizes = [rnn_size*self.last_num] + fc_sizes\n",
        "\n",
        "    fc_blocks = [[nn.Linear(in_f, out_f), nn.ReLU()] for in_f, out_f in zip(self.fc_sizes, self.fc_sizes[1:])]\n",
        "    fc_blocks = [item for sublist in fc_blocks for item in sublist]\n",
        "\n",
        "    self.fc = nn.Sequential(*fc_blocks,\n",
        "                            nn.Linear(fc_sizes[-1], output_size))\n",
        "    \n",
        "    #Define the dropout rate\n",
        "    self.dropout = nn.Dropout(dropout)\n",
        "\n",
        "    self.hide = hide\n",
        "  def forward(self, input_seq):\n",
        "\n",
        "    output, hidden = self.rnn(input_seq)\n",
        "\n",
        "    #if hidden=True we will pass results from hidden layer to fc, otherwise pass results from output layers\n",
        "    #We can choose how many layers output we want to pass to fc if we pass result from hidden layers of \n",
        "    #a multi-layer GRU\n",
        "    if self.hide:\n",
        "      output = self.dropout(torch.cat([hidden[-i,:,:] for i in range(1,self.last_num+1)], dim=1))\n",
        "    else:\n",
        "      output = self.dropout(output[:,-1,:])\n",
        "\n",
        "    return self.fc(output)"
      ],
      "metadata": {
        "id": "b-F6ZGPj5g_A"
      },
      "execution_count": null,
      "outputs": []
    },
    {
      "cell_type": "markdown",
      "source": [
        "Here is an example of the predictor layer, with `input_size=10`, `rnn_size=8`, `fc_sizes=[5,3,2]`, `num_layers=4`, `output_sizes=1`, `dropout=0.3`, `last_num=2`, and `hidden=True`. We expect to have a predictor layer consists of a four layer GRU with input size $10$ and output size $16$(`rnn_size*last_num`), followed by four fully connected layers with input size $16$, $5$, $3$ and $2$, respectively."
      ],
      "metadata": {
        "id": "lMWauabYBoOe"
      }
    },
    {
      "cell_type": "code",
      "source": [
        "demo = gru(input_size=10, rnn_size=8, fc_sizes=[5,3,2], num_layers=4, output_size=1, dropout=0.3, last_num=2, hide=True)\n",
        "demo"
      ],
      "metadata": {
        "colab": {
          "base_uri": "https://localhost:8080/"
        },
        "id": "jU8jwXcLc2oE",
        "outputId": "2363f790-e4c1-4f03-e1ad-874da97a666d"
      },
      "execution_count": null,
      "outputs": [
        {
          "output_type": "execute_result",
          "data": {
            "text/plain": [
              "gru(\n",
              "  (rnn): GRU(10, 8, num_layers=4, batch_first=True, dropout=0.3)\n",
              "  (fc): Sequential(\n",
              "    (0): Linear(in_features=16, out_features=5, bias=True)\n",
              "    (1): ReLU()\n",
              "    (2): Linear(in_features=5, out_features=3, bias=True)\n",
              "    (3): ReLU()\n",
              "    (4): Linear(in_features=3, out_features=2, bias=True)\n",
              "    (5): ReLU()\n",
              "    (6): Linear(in_features=2, out_features=1, bias=True)\n",
              "  )\n",
              "  (dropout): Dropout(p=0.3, inplace=False)\n",
              ")"
            ]
          },
          "metadata": {},
          "execution_count": 17
        }
      ]
    },
    {
      "cell_type": "markdown",
      "source": [
        "Define the training function with mini-batch training."
      ],
      "metadata": {
        "id": "razen573HbTA"
      }
    },
    {
      "cell_type": "code",
      "source": [
        "def train(model, dataloader, optimizer, criterion, batch_size, input_size):\n",
        "  epoch_loss = 0\n",
        "  \n",
        "  model.train()\n",
        "\n",
        "  for x_, y_ in dataloader:\n",
        "\n",
        "    optimizer.zero_grad()\n",
        "\n",
        "    x_ = x_.view([batch_size, -1, input_size]).to(device)\n",
        "    y_ = y_.to(device)\n",
        "\n",
        "    pred = model(x_)\n",
        "\n",
        "    loss = criterion(pred, y_)\n",
        "\n",
        "    loss.backward()\n",
        "\n",
        "    optimizer.step()\n",
        "\n",
        "    epoch_loss += loss.item()\n",
        "  \n",
        "  return epoch_loss/len(dataloader)"
      ],
      "metadata": {
        "id": "2df_cDOBHblm"
      },
      "execution_count": null,
      "outputs": []
    },
    {
      "cell_type": "markdown",
      "source": [
        "Define the evaluation function."
      ],
      "metadata": {
        "id": "pCvis24XMnKT"
      }
    },
    {
      "cell_type": "code",
      "source": [
        "def evaluate(model, dataloader, batch_size, input_size, criterion):\n",
        "\n",
        "  model.eval()\n",
        "\n",
        "  predictions, values, loss = [], [], 0\n",
        "\n",
        "  with torch.no_grad():\n",
        "    for x_, y_ in dataloader:\n",
        "\n",
        "      x_ = x_.view([batch_size, -1, input_size]).to(device)\n",
        "      y_ = y_.to(device)\n",
        "\n",
        "      y_hat = model(x_)\n",
        "\n",
        "      predictions.extend(y_hat.numpy())\n",
        "\n",
        "      values.extend(y_.numpy())\n",
        "\n",
        "      loss += criterion(y_hat, y_).item()\n",
        "\n",
        "    return predictions, values, loss/len(dataloader)"
      ],
      "metadata": {
        "id": "jSVC2rhwMpo1"
      },
      "execution_count": null,
      "outputs": []
    },
    {
      "cell_type": "markdown",
      "source": [
        "### 4.2 GRU Based Detector: Decision layer\n",
        "\n",
        "The anomaly classification will be based on how far our actual observations are from our predictions. We can either use a fixed threshold, or a dynamic threshold. When the distance between prediction and observation is above the prespecified threshold, we will declare an anomaly point been observed.\n"
      ],
      "metadata": {
        "id": "btBp_kijKA04"
      }
    },
    {
      "cell_type": "markdown",
      "source": [
        "#### Rolling Gaussian Quantile Based Threshold\n",
        "\n",
        "Some anomaly detection paper ([link](https://www.sciencedirect.com/science/article/pii/S0925231217309864)) proposd using anomaly likelihood based on (scaled) prediction error $s_t$ at timestep $t$. The anomaly likelihood is a probabilistic metric defining how anomalous the current state is based on the prediction history of the model. The distribuion is modeled as a rolling normal distribution where the sample mean, $\\mu_t$, and variance, $\\sigma^2_t$, are continuously updated from previous error values as follows:\n",
        "\\begin{equation}\n",
        "\\mu_t=\\frac{\\sum_{i=0}^{W-1}s_{t-i}}{W},\n",
        "\\end{equation}\n",
        "and\n",
        "\\begin{equation}\n",
        "\\sigma_t^2=\\frac{\\sum_{i=0}^{W-1}(s_{t-i}-\\mu_t)^2}{W-1}.\n",
        "\\end{equation}\n",
        "\n",
        "Then compute a recent short term average of prediction errors, and apply a threshold to the Gaussian tail probability. Let $\\Phi(\\cdot)$ be the quantile for standard normal distribution, the anomaly likelihood is defined as\n",
        "\\begin{equation}\n",
        "L_t=1-\\Phi\\left(\\frac{\\tilde{\\mu}_t-\\mu_t}{\\sigma_t}\\right),\n",
        "\\end{equation}\n",
        "\n",
        "where $\\tilde{\\mu}_t=\\frac{\\sum_{i=0}^{W'-1}s_{t-i}}{W'}$. $W'$ is a window for a short term moving average, where $W'\\ll W$. The threshold $L_t$ is based on a user-defined parameter $\\alpha$ to report an anomaly:\n",
        "\\begin{equation}\n",
        "\\text{anomaly detected}≡ L_t\\leq \\alpha.\n",
        "\\end{equation}\n",
        "\n",
        "This paper states that in practice, the system is not sensitive to $W$ as long as it is large enough to compute a reliable distribution. They use a generous value of $W=8000$, and $W'=10$. It also suggests an $\\alpha=10^{-5}$, which is equivalent to choose an $\\alpha=0.01$ with Bonferonni correction of $1000$, i.e. $0.01/1000=10^{-5}$. As this was a multiple test problem(we test for multiple points for anomaly), we need to adjust the significance level accordingly."
      ],
      "metadata": {
        "id": "ZomTee1BamET"
      }
    },
    {
      "cell_type": "code",
      "source": [
        "import scipy.stats as sps"
      ],
      "metadata": {
        "id": "YLRLiHw4ALyp"
      },
      "execution_count": null,
      "outputs": []
    },
    {
      "cell_type": "code",
      "source": [
        "def gaussian_tail(y_test, y_hat, train_err, quantile=0.95, large_error_lag=8000, small_error_lag=10, alpha=0.01, bonfer=1000):\n",
        "  \n",
        "  train_size = len(train_err)\n",
        "  #set start and end index for moving window W and W'\n",
        "  large_index_start = 0 if train_size<large_error_lag else train_size - large_error_lag\n",
        "  large_index_end = train_size - 1\n",
        "  large_index_size = large_index_end - large_index_start\n",
        "  small_index_start = 0 if train_size<small_error_lag else train_size - small_error_lag\n",
        "  small_index_end = train_size\n",
        "  small_index_size = small_index_end - small_index_start\n",
        "\n",
        "  #Combine the training error and testing error for easy updating\n",
        "  #of rolling gaussian parameters, but the anomalies will be \n",
        "  #detected in a streaming manner(won't use future information\n",
        "  #for currrent estimation)\n",
        "  err = np.concatenate((train_err, y_test-y_hat), axis=0)\n",
        "  anomaly = []\n",
        "\n",
        "  for i in range(len(y_test)):\n",
        "    resid = err[i+train_size]\n",
        "    #Calculate mean and sd for error in large moving window\n",
        "    mu_t, sigma_t = np.mean(err[large_index_start:large_index_end]), np.std(err[large_index_start:large_index_end])\n",
        "    \n",
        "    #Calculate mean for error in small moving window\n",
        "    mu_hat = np.mean(err[small_index_start:small_index_end])\n",
        "\n",
        "    #Compute test statistic\n",
        "    z_score = abs(mu_hat-mu_t)/sigma_t\n",
        "\n",
        "    #Compute critical value for the test\n",
        "    norm_dist = sps.norm(loc=0, scale=1)\n",
        "    critical_value = norm_dist.ppf(1-alpha/bonfer)\n",
        "\n",
        "    #If test statistics is greater than critical value\n",
        "    #declare anomaly\n",
        "    if z_score>critical_value:\n",
        "      anomaly.append(i)\n",
        "    \n",
        "    #print(z_score, critical_value) \n",
        "    #Update start and end index for moving windows\n",
        "    if large_index_size<large_error_lag:\n",
        "      large_index_end += 1\n",
        "      large_index_size += 1\n",
        "    else:\n",
        "      large_index_start += 1\n",
        "      large_index_end += 1\n",
        "\n",
        "    if small_index_size<small_error_lag:\n",
        "      small_index_end += 1\n",
        "      small_index_size += 1\n",
        "    else:\n",
        "      small_index_start += 1\n",
        "      small_index_end += 1\n",
        "\n",
        "  return anomaly\n"
      ],
      "metadata": {
        "id": "aK9mDEZgameF"
      },
      "execution_count": null,
      "outputs": []
    },
    {
      "cell_type": "markdown",
      "source": [
        "#### Nonexchangable Conformal Prediction Based Threshold\n",
        "\n"
      ],
      "metadata": {
        "id": "-xgezI4QJ5H7"
      }
    },
    {
      "cell_type": "code",
      "source": [
        "def conformal(y_test, y_hat, train_err, lag, weights=None, alpha=0.05, bonfer=True):\n",
        "  \n",
        "  #Use inverse lag as weight by default\n",
        "  if not weights:\n",
        "    #weights for delta_Ri\n",
        "    weights = 1/np.array(range(1,lag+1))[: : -1]\n",
        "  \n",
        "  train_size = len(train_err)\n",
        "  \n",
        "  #set start and end index for moving window of size lag\n",
        "  window_start = 0 if train_size<lag else train_size - lag\n",
        "  window_end = train_size - 1\n",
        "  window_size = window_end - window_start\n",
        "\n",
        "  #Combine the training error and testing error for easy updating\n",
        "  #of comformal predictions, but the anomalies will be \n",
        "  #detected in a streaming manner(won't use future information\n",
        "  #for currrent estimation)\n",
        "  err = np.concatenate((abs(train_err), abs(y_test-y_hat)), axis=0)\n",
        "  anomaly = []\n",
        "\n",
        "  for i in range(len(y_test)):\n",
        "\n",
        "    curr_weights = weights[:window_size]\n",
        "    #weights for delta_inf\n",
        "    curr_weights = np.insert(curr_weights, 0, 1)\n",
        "\n",
        "    #normalize weights\n",
        "    curr_weights = curr_weights/np.sum(curr_weights)\n",
        "    #calculate weighted quantile\n",
        "    quan = np.cumsum(curr_weights)[1:]\n",
        "\n",
        "    #index for critical value\n",
        "    if bonfer:\n",
        "      idx = np.argmax(quan>(1-alpha/lag))\n",
        "    else:\n",
        "      idx = np.argmax(quan>(1-alpha))\n",
        "    #Calculate confidence interval for prediction\n",
        "    critical_val = sorted(err[window_start:window_end])[idx]\n",
        "    if y_test[i]<y_hat[i]-critical_val or y_test[i]>y_hat[i]+critical_val:\n",
        "      anomaly.append(i)\n",
        "      \n",
        "    if window_size<lag:\n",
        "      window_end += 1\n",
        "      window_size += 1\n",
        "    else:\n",
        "      window_start += 1\n",
        "      window_end += 1\n",
        "    \n",
        "  return anomaly"
      ],
      "metadata": {
        "id": "fyYIzm_5J5Sq"
      },
      "execution_count": null,
      "outputs": []
    },
    {
      "cell_type": "markdown",
      "source": [
        "### 4.3 Continuous Online Learning from Streaming Data\n",
        "\n",
        "The time series data is presented to the GRU-based anomaly detection algorithm in a continuous streaming scenario. When we split the data for training and detection, we will keep the original order of the data by not shuffling it while passing it to `DataLoader` function. \n",
        "\n",
        "The GRU model can either be trained once using the training data and kept unchanged while performing anomaly detection algorithm for the rest of the data. Or can be updated as new data comes. I used an online GRU, where the GRU model is updated every time a new data point is observed and retrained using backpropagation through time over the last 100 elements. It can also be updated at regular interval on a buffered data set of the previous time steps. However, given the size of our data set is relatively small, we will not use the last two methods in this project."
      ],
      "metadata": {
        "id": "ybYriqQ5Npc6"
      }
    },
    {
      "cell_type": "markdown",
      "source": [
        "#### GRU Based Anomaly Detection: Real Time Series Data\n",
        "\n",
        "The time series in this project only contains ``normal\" data at the first $25\\%$ of the data sets. We can train the GRU model using the first $25\\%$ of the data and using this GRU model to predict the rest of the data."
      ],
      "metadata": {
        "id": "CL2_-DLNSpdp"
      }
    },
    {
      "cell_type": "code",
      "source": [
        "#Generate lagged observation, choose lag of 24 for dat_real\n",
        "x_train = generate_time_lags(dat_real[['value']], 24)\n",
        "y_train = dat_real[['value']].iloc[24:]\n",
        "y_train.reset_index(drop=True, inplace=True)"
      ],
      "metadata": {
        "id": "2bvPr4n8SmGV"
      },
      "execution_count": null,
      "outputs": []
    },
    {
      "cell_type": "code",
      "source": [
        "#Split train and test data\n",
        "#the data is splitted without shuffling and first 25% is training data\n",
        "x_train, x_test, y_train, y_test = train_val_test_split(x_train, y_train, 0.75)"
      ],
      "metadata": {
        "id": "tDv5fpd_TWKE"
      },
      "execution_count": null,
      "outputs": []
    },
    {
      "cell_type": "code",
      "source": [
        "#record index for testing data\n",
        "test_index = np.array(x_test.index)"
      ],
      "metadata": {
        "id": "QutL2UH4XUXv"
      },
      "execution_count": null,
      "outputs": []
    },
    {
      "cell_type": "code",
      "source": [
        "#Scaling the data\n",
        "scaler_x = get_scaler('standard')\n",
        "scaler_y = get_scaler('standard')\n",
        "tar = [f'lag{i}' for i in range(1,24)]\n",
        "x_train[tar] = scaler_x.fit_transform(x_train[tar])\n",
        "x_test[tar] = scaler_x.transform(x_test[tar])\n",
        "y_train = scaler_y.fit_transform(y_train)\n",
        "y_test = scaler_y.transform(y_test)"
      ],
      "metadata": {
        "id": "pLMGg6YtpEaU"
      },
      "execution_count": null,
      "outputs": []
    },
    {
      "cell_type": "code",
      "source": [
        "#Transform to tensor and pass tp train_data and test_data\n",
        "x_train = torch.from_numpy(np.array(x_train, dtype='float32'))\n",
        "y_train = torch.from_numpy(np.array(y_train, dtype='float32'))\n",
        "x_test = torch.from_numpy(np.array(x_test, dtype='float32'))\n",
        "y_test = torch.from_numpy(np.array(y_test, dtype='float32'))\n",
        "\n",
        "train_data = TensorDataset(x_train, y_train)\n",
        "test_data = TensorDataset(x_test, y_test)"
      ],
      "metadata": {
        "id": "_gdIsMeyUngr"
      },
      "execution_count": null,
      "outputs": []
    },
    {
      "cell_type": "code",
      "source": [
        "batch_size = 2\n",
        "input_size = 25\n",
        "rnn_size = 128\n",
        "fc_sizes = [64,32]\n",
        "num_layers = 3\n",
        "output_size = 1\n",
        "dropout = 0.3\n",
        "last_num = 2\n",
        "\n",
        "model = gru(input_size, rnn_size, fc_sizes, num_layers, output_size, dropout, last_num, hide=False).to(device)"
      ],
      "metadata": {
        "id": "_i4Z7SB9UDlq"
      },
      "execution_count": null,
      "outputs": []
    },
    {
      "cell_type": "code",
      "source": [
        "model"
      ],
      "metadata": {
        "colab": {
          "base_uri": "https://localhost:8080/"
        },
        "id": "p2VwdYnhp1Sy",
        "outputId": "efccd77e-b765-4167-8cb6-5f1d72ffda2c"
      },
      "execution_count": null,
      "outputs": [
        {
          "output_type": "execute_result",
          "data": {
            "text/plain": [
              "gru(\n",
              "  (rnn): GRU(25, 128, num_layers=3, batch_first=True, dropout=0.3)\n",
              "  (fc): Sequential(\n",
              "    (0): Linear(in_features=128, out_features=64, bias=True)\n",
              "    (1): ReLU()\n",
              "    (2): Linear(in_features=64, out_features=32, bias=True)\n",
              "    (3): ReLU()\n",
              "    (4): Linear(in_features=32, out_features=1, bias=True)\n",
              "  )\n",
              "  (dropout): Dropout(p=0.3, inplace=False)\n",
              ")"
            ]
          },
          "metadata": {},
          "execution_count": 220
        }
      ]
    },
    {
      "cell_type": "code",
      "source": [
        "train_data = DataLoader(train_data, batch_size=batch_size, shuffle=False, drop_last=True)\n",
        "test_data = DataLoader(test_data, batch_size=batch_size, shuffle=False, drop_last=True)\n",
        "\n",
        "criterion = nn.MSELoss()\n",
        "optimizer = optim.Adam(model.parameters())"
      ],
      "metadata": {
        "id": "fS_phVR8UeHF"
      },
      "execution_count": null,
      "outputs": []
    },
    {
      "cell_type": "code",
      "source": [
        "n_epoches = 100\n",
        "\n",
        "for epoch in range(n_epoches):\n",
        "  train_loss = train(model, train_data, optimizer, criterion, batch_size, input_size)\n",
        "  pre_, y_, val_loss = evaluate(model, test_data, batch_size, input_size, criterion)\n",
        "  if epoch%10==0:\n",
        "    print('train_loss {}'.format(train_loss))\n",
        "    print('val_loss {}'.format(val_loss))"
      ],
      "metadata": {
        "colab": {
          "base_uri": "https://localhost:8080/"
        },
        "id": "5Bd-6ZYZUnkW",
        "outputId": "241e83c4-32cc-4d1b-b98a-e98340f2808a"
      },
      "execution_count": null,
      "outputs": [
        {
          "output_type": "stream",
          "name": "stdout",
          "text": [
            "train_loss 0.9955439480148595\n",
            "val_loss 1.0552120923201453\n",
            "train_loss 0.2249109970494332\n",
            "val_loss 0.41085460412415997\n",
            "train_loss 0.14282981926821361\n",
            "val_loss 0.2413059239258872\n",
            "train_loss 0.12181426639207613\n",
            "val_loss 0.22092950603093342\n",
            "train_loss 0.08891239886460509\n",
            "val_loss 0.2895478573209574\n",
            "train_loss 0.07721159468664238\n",
            "val_loss 0.15972213933571888\n",
            "train_loss 0.08322447038848292\n",
            "val_loss 0.291426489780525\n",
            "train_loss 0.059983784731230116\n",
            "val_loss 0.16506163780499686\n",
            "train_loss 0.08000511334516473\n",
            "val_loss 0.19695075691500924\n",
            "train_loss 0.041020076980978294\n",
            "val_loss 0.16875262713176417\n"
          ]
        }
      ]
    },
    {
      "cell_type": "markdown",
      "source": [
        "plot time series predicted by our GRU model, where the balck line is the observation and red line is our prediction."
      ],
      "metadata": {
        "id": "5u31gtalYkQq"
      }
    },
    {
      "cell_type": "code",
      "source": [
        "y_ = np.array(y_).reshape((-1))\n",
        "pre_ = np.array(pre_).reshape((-1))\n",
        "\n",
        "real_org = pd.DataFrame({\"timestamp\":test_index, \"value\":y_, \"data\":'observation'})\n",
        "real_pred = pd.DataFrame({\"timestamp\":test_index, \"value\":pre_, \"data\":'prediction'})\n",
        "real_ = pd.concat((real_org, real_pred), axis=0)"
      ],
      "metadata": {
        "id": "XBSTInoOZH_Q"
      },
      "execution_count": null,
      "outputs": []
    },
    {
      "cell_type": "code",
      "source": [
        "ggplot(real_)+\\\n",
        "geom_line(aes(x='timestamp', y='value', color='data'), alpha=0.8) +\\\n",
        "scale_color_manual(values = (\"#293352\", \"#FC4E07\")) +\\\n",
        "xlab('Time Lag in Hours') +\\\n",
        "ggtitle('Trace plot of Real and Prediction') +\\\n",
        "theme(axis_text=element_text(size=12), axis_title=element_text(size=12))"
      ],
      "metadata": {
        "colab": {
          "base_uri": "https://localhost:8080/",
          "height": 499
        },
        "id": "8uAGprNsuNGK",
        "outputId": "4d389746-7e8e-4103-9fb7-558d5ef40f3b"
      },
      "execution_count": null,
      "outputs": [
        {
          "output_type": "display_data",
          "data": {
            "text/plain": [
              "<Figure size 640x480 with 1 Axes>"
            ],
            "image/png": "[encoded data removed]"
          },
          "metadata": {}
        },
        {
          "output_type": "execute_result",
          "data": {
            "text/plain": [
              "<ggplot: (8728116649301)>"
            ]
          },
          "metadata": {},
          "execution_count": 224
        }
      ]
    },
    {
      "cell_type": "code",
      "source": [
        "y_hat, y_train, _ = evaluate(model, train_data, batch_size, input_size, criterion)"
      ],
      "metadata": {
        "id": "55RgrlwBGvuD"
      },
      "execution_count": null,
      "outputs": []
    },
    {
      "cell_type": "code",
      "source": [
        "y_hat = np.array(y_hat).reshape((-1))\n",
        "y_train = np.array(y_train).reshape((-1))"
      ],
      "metadata": {
        "id": "6xF-vGnndeGn"
      },
      "execution_count": null,
      "outputs": []
    },
    {
      "cell_type": "markdown",
      "source": [
        "Under significance level $\\alpha=0.05$ and using a size $100$ large sliding window and size $1$ small sliding window with bonferroni correction the precision, recall and f1 for `dat_real` under rolling gaussian is given by"
      ],
      "metadata": {
        "id": "h4fcwJOhkwvg"
      }
    },
    {
      "cell_type": "code",
      "source": [
        "gau_real = gaussian_tail(y_, pre_, y_train-y_hat, large_error_lag=100, small_error_lag=1, alpha=0.05, bonfer=200)+ test_index[0]\n",
        "print(\"The indices for anomaly data points are\", gau_real)\n",
        "eval_metrics(dat_real.is_anomaly, gau_real, 0.05)"
      ],
      "metadata": {
        "colab": {
          "base_uri": "https://localhost:8080/"
        },
        "id": "mzJoJZXsk1ho",
        "outputId": "59fd0906-04dd-46ed-9bc1-6e1246c1bdd6"
      },
      "execution_count": null,
      "outputs": [
        {
          "output_type": "stream",
          "name": "stdout",
          "text": [
            "The indices for anomaly data points are [ 423  590  720  791  795  886 1151 1171 1345 1432 1434 1435 1437]\n",
            "The precioson, recall and f1 score is given by 0.308, 0.5 and 0.381 under 0.05 sign. level\n"
          ]
        }
      ]
    },
    {
      "cell_type": "markdown",
      "source": [
        "Under significance level $\\alpha=0.01$ and using a size $100$ large sliding window and size $1$ small sliding window with bonferroni correction the precision, recall and f1 for `dat_real` under rolling gaussian is given by"
      ],
      "metadata": {
        "id": "WeORF9eFlmF3"
      }
    },
    {
      "cell_type": "code",
      "source": [
        "gau_real = gaussian_tail(y_, pre_, y_train-y_hat, large_error_lag=100, small_error_lag=1, alpha=0.01, bonfer=200)+ test_index[0]\n",
        "print(\"The indices for anomaly data points are\", gau_real)\n",
        "eval_metrics(dat_real.is_anomaly, gau_real, 0.01)"
      ],
      "metadata": {
        "colab": {
          "base_uri": "https://localhost:8080/"
        },
        "id": "9ZZeS8wVlxX5",
        "outputId": "51774129-d351-4c31-87c1-ba248c9c26b8"
      },
      "execution_count": null,
      "outputs": [
        {
          "output_type": "stream",
          "name": "stdout",
          "text": [
            "The indices for anomaly data points are [ 423  590  720  886 1151 1345 1432 1434 1435 1437]\n",
            "The precioson, recall and f1 score is given by 0.4, 0.5 and 0.444 under 0.01 sign. level\n"
          ]
        }
      ]
    },
    {
      "cell_type": "markdown",
      "source": [
        "Under significance level $\\alpha=0.05$ and using a $600$ sliding window with bonferroni correction the precision, recall and f1 for `dat_real` under conformal prediction is given by"
      ],
      "metadata": {
        "id": "Y_Mr-5_IgiHB"
      }
    },
    {
      "cell_type": "code",
      "source": [
        "cp_real = conformal(y_, pre_ , y_train-y_hat, lag=600, weights=None, alpha=0.05) + test_index[0]\n",
        "print(\"The indices for anomaly data points are\", cp_real)\n",
        "eval_metrics(dat_real.is_anomaly, cp_real, 0.05)"
      ],
      "metadata": {
        "colab": {
          "base_uri": "https://localhost:8080/"
        },
        "id": "JYj-wejnHDAL",
        "outputId": "5d6954e6-10cd-4ea9-adb4-0bf60ffdba02"
      },
      "execution_count": null,
      "outputs": [
        {
          "output_type": "stream",
          "name": "stdout",
          "text": [
            "The indices for anomaly data points are [ 422  885 1431 1433 1434 1436]\n",
            "The precioson, recall and f1 score is given by 0.667, 0.5 and 0.571 under 0.05 sign. level\n"
          ]
        }
      ]
    },
    {
      "cell_type": "markdown",
      "source": [
        "Under significance level $\\alpha=0.01$ and using a $600$ sliding window the precision, recall and f1 for `dat_real` under conformal prediction is given by"
      ],
      "metadata": {
        "id": "BpIzJhPWiDu1"
      }
    },
    {
      "cell_type": "code",
      "source": [
        "cp_real = conformal(y_, pre_ , y_train-y_hat, lag= 600, weights=None, alpha=0.01) + test_index[0]\n",
        "print(\"The indices for anomaly data points are\", cp_real)\n",
        "eval_metrics(dat_real.is_anomaly, cp_real, 0.01)"
      ],
      "metadata": {
        "colab": {
          "base_uri": "https://localhost:8080/"
        },
        "id": "za_zcExjh24F",
        "outputId": "6aee573b-6011-48a9-aa6b-f3f92645c581"
      },
      "execution_count": null,
      "outputs": [
        {
          "output_type": "stream",
          "name": "stdout",
          "text": [
            "The indices for anomaly data points are [ 422  885 1431 1433 1434 1436]\n",
            "The precioson, recall and f1 score is given by 0.667, 0.5 and 0.571 under 0.01 sign. level\n"
          ]
        }
      ]
    }
  ],
  "metadata": {
    "colab": {
      "provenance": [],
      "toc_visible": true,
      "authorship_tag": "ABX9TyNvvUc3auOgLAxiQrMyMRQ3",
      "include_colab_link": true
    },
    "gpuClass": "standard",
    "kernelspec": {
      "display_name": "Python 3",
      "name": "python3"
    },
    "language_info": {
      "name": "python"
    }
  },
  "nbformat": 4,
  "nbformat_minor": 0
}
